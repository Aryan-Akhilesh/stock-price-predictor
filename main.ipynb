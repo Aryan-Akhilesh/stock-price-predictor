{
 "cells": [
  {
   "cell_type": "markdown",
   "metadata": {},
   "source": [
    "<font size=14>Stock Price Predictor</font>\n",
    "\n",
    "Description: The project aims to predict future stock prices of a company (e.g., Google) by leveraging a combination of technical indicators, such as the Relative Strength Index (RSI), historical data, & market sentiment analysis derived from news articles. The prediction model employs a Long Short-Term Memory (LSTM) neural network."
   ]
  },
  {
   "cell_type": "code",
   "execution_count": 23,
   "metadata": {},
   "outputs": [],
   "source": [
    "import pandas as pd \n",
    "import math\n",
    "import numpy as np \n",
    "from sklearn.preprocessing import MinMaxScaler\n",
    "from keras.models import Sequential\n",
    "from keras.layers import Dense,LSTM\n",
    "import matplotlib.pyplot as plt\n",
    "import yfinance as yf\n",
    "plt.style.use('seaborn-v0_8')"
   ]
  },
  {
   "cell_type": "code",
   "execution_count": 13,
   "metadata": {},
   "outputs": [
    {
     "name": "stderr",
     "output_type": "stream",
     "text": [
      "[*********************100%%**********************]  1 of 1 completed\n"
     ]
    }
   ],
   "source": [
    "start = '2014-01-01'\n",
    "end = '2024-08-06'\n",
    "stock_name = 'GOOG'\n",
    "\n",
    "df = yf.download(stock_name,start,end)"
   ]
  },
  {
   "cell_type": "code",
   "execution_count": 14,
   "metadata": {},
   "outputs": [
    {
     "data": {
      "text/html": [
       "<div>\n",
       "<style scoped>\n",
       "    .dataframe tbody tr th:only-of-type {\n",
       "        vertical-align: middle;\n",
       "    }\n",
       "\n",
       "    .dataframe tbody tr th {\n",
       "        vertical-align: top;\n",
       "    }\n",
       "\n",
       "    .dataframe thead th {\n",
       "        text-align: right;\n",
       "    }\n",
       "</style>\n",
       "<table border=\"1\" class=\"dataframe\">\n",
       "  <thead>\n",
       "    <tr style=\"text-align: right;\">\n",
       "      <th></th>\n",
       "      <th>Open</th>\n",
       "      <th>High</th>\n",
       "      <th>Low</th>\n",
       "      <th>Close</th>\n",
       "      <th>Adj Close</th>\n",
       "      <th>Volume</th>\n",
       "    </tr>\n",
       "    <tr>\n",
       "      <th>Date</th>\n",
       "      <th></th>\n",
       "      <th></th>\n",
       "      <th></th>\n",
       "      <th></th>\n",
       "      <th></th>\n",
       "      <th></th>\n",
       "    </tr>\n",
       "  </thead>\n",
       "  <tbody>\n",
       "    <tr>\n",
       "      <th>2014-01-02</th>\n",
       "      <td>27.782366</td>\n",
       "      <td>27.839401</td>\n",
       "      <td>27.603037</td>\n",
       "      <td>27.724083</td>\n",
       "      <td>27.692570</td>\n",
       "      <td>73129082</td>\n",
       "    </tr>\n",
       "    <tr>\n",
       "      <th>2014-01-03</th>\n",
       "      <td>27.770908</td>\n",
       "      <td>27.818977</td>\n",
       "      <td>27.520098</td>\n",
       "      <td>27.521841</td>\n",
       "      <td>27.490559</td>\n",
       "      <td>66917888</td>\n",
       "    </tr>\n",
       "    <tr>\n",
       "      <th>2014-01-06</th>\n",
       "      <td>27.721344</td>\n",
       "      <td>27.867046</td>\n",
       "      <td>27.557707</td>\n",
       "      <td>27.828691</td>\n",
       "      <td>27.797060</td>\n",
       "      <td>71037271</td>\n",
       "    </tr>\n",
       "    <tr>\n",
       "      <th>2014-01-07</th>\n",
       "      <td>28.019974</td>\n",
       "      <td>28.385853</td>\n",
       "      <td>27.924334</td>\n",
       "      <td>28.365179</td>\n",
       "      <td>28.332937</td>\n",
       "      <td>102486711</td>\n",
       "    </tr>\n",
       "    <tr>\n",
       "      <th>2014-01-08</th>\n",
       "      <td>28.543015</td>\n",
       "      <td>28.575891</td>\n",
       "      <td>28.226450</td>\n",
       "      <td>28.424210</td>\n",
       "      <td>28.391901</td>\n",
       "      <td>90036218</td>\n",
       "    </tr>\n",
       "    <tr>\n",
       "      <th>...</th>\n",
       "      <td>...</td>\n",
       "      <td>...</td>\n",
       "      <td>...</td>\n",
       "      <td>...</td>\n",
       "      <td>...</td>\n",
       "      <td>...</td>\n",
       "    </tr>\n",
       "    <tr>\n",
       "      <th>2024-07-30</th>\n",
       "      <td>171.830002</td>\n",
       "      <td>172.949997</td>\n",
       "      <td>170.119995</td>\n",
       "      <td>171.860001</td>\n",
       "      <td>171.860001</td>\n",
       "      <td>13681400</td>\n",
       "    </tr>\n",
       "    <tr>\n",
       "      <th>2024-07-31</th>\n",
       "      <td>174.919998</td>\n",
       "      <td>175.910004</td>\n",
       "      <td>171.720001</td>\n",
       "      <td>173.149994</td>\n",
       "      <td>173.149994</td>\n",
       "      <td>15650200</td>\n",
       "    </tr>\n",
       "    <tr>\n",
       "      <th>2024-08-01</th>\n",
       "      <td>171.979996</td>\n",
       "      <td>175.679993</td>\n",
       "      <td>170.509995</td>\n",
       "      <td>172.449997</td>\n",
       "      <td>172.449997</td>\n",
       "      <td>17177800</td>\n",
       "    </tr>\n",
       "    <tr>\n",
       "      <th>2024-08-02</th>\n",
       "      <td>168.190002</td>\n",
       "      <td>170.210007</td>\n",
       "      <td>166.389999</td>\n",
       "      <td>168.399994</td>\n",
       "      <td>168.399994</td>\n",
       "      <td>18907800</td>\n",
       "    </tr>\n",
       "    <tr>\n",
       "      <th>2024-08-05</th>\n",
       "      <td>157.369995</td>\n",
       "      <td>165.940002</td>\n",
       "      <td>156.600006</td>\n",
       "      <td>160.639999</td>\n",
       "      <td>160.639999</td>\n",
       "      <td>34907800</td>\n",
       "    </tr>\n",
       "  </tbody>\n",
       "</table>\n",
       "<p>2665 rows × 6 columns</p>\n",
       "</div>"
      ],
      "text/plain": [
       "                  Open        High         Low       Close   Adj Close  \\\n",
       "Date                                                                     \n",
       "2014-01-02   27.782366   27.839401   27.603037   27.724083   27.692570   \n",
       "2014-01-03   27.770908   27.818977   27.520098   27.521841   27.490559   \n",
       "2014-01-06   27.721344   27.867046   27.557707   27.828691   27.797060   \n",
       "2014-01-07   28.019974   28.385853   27.924334   28.365179   28.332937   \n",
       "2014-01-08   28.543015   28.575891   28.226450   28.424210   28.391901   \n",
       "...                ...         ...         ...         ...         ...   \n",
       "2024-07-30  171.830002  172.949997  170.119995  171.860001  171.860001   \n",
       "2024-07-31  174.919998  175.910004  171.720001  173.149994  173.149994   \n",
       "2024-08-01  171.979996  175.679993  170.509995  172.449997  172.449997   \n",
       "2024-08-02  168.190002  170.210007  166.389999  168.399994  168.399994   \n",
       "2024-08-05  157.369995  165.940002  156.600006  160.639999  160.639999   \n",
       "\n",
       "               Volume  \n",
       "Date                   \n",
       "2014-01-02   73129082  \n",
       "2014-01-03   66917888  \n",
       "2014-01-06   71037271  \n",
       "2014-01-07  102486711  \n",
       "2014-01-08   90036218  \n",
       "...               ...  \n",
       "2024-07-30   13681400  \n",
       "2024-07-31   15650200  \n",
       "2024-08-01   17177800  \n",
       "2024-08-02   18907800  \n",
       "2024-08-05   34907800  \n",
       "\n",
       "[2665 rows x 6 columns]"
      ]
     },
     "execution_count": 14,
     "metadata": {},
     "output_type": "execute_result"
    }
   ],
   "source": [
    "df"
   ]
  },
  {
   "cell_type": "code",
   "execution_count": 24,
   "metadata": {},
   "outputs": [
    {
     "data": {
      "image/png": "[encoded data removed]",
      "text/plain": [
       "<Figure size 800x550 with 1 Axes>"
      ]
     },
     "metadata": {},
     "output_type": "display_data"
    }
   ],
   "source": [
    "plt.title('Close Price History')\n",
    "plt.plot(df['Close'])\n",
    "plt.show()"
   ]
  },
  {
   "cell_type": "code",
   "execution_count": null,
   "metadata": {},
   "outputs": [],
   "source": []
  }
 ],
 "metadata": {
  "kernelspec": {
   "display_name": "base",
   "language": "python",
   "name": "python3"
  },
  "language_info": {
   "codemirror_mode": {
    "name": "ipython",
    "version": 3
   },
   "file_extension": ".py",
   "mimetype": "text/x-python",
   "name": "python",
   "nbconvert_exporter": "python",
   "pygments_lexer": "ipython3",
   "version": "3.11.5"
  }
 },
 "nbformat": 4,
 "nbformat_minor": 2
}
